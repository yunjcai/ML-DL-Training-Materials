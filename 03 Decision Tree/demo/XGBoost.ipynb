{
 "cells": [
  {
   "cell_type": "code",
   "execution_count": 2,
   "metadata": {},
   "outputs": [],
   "source": [
    "import pandas as pd\n",
    "import numpy as np\n",
    "import xgboost as xgb\n",
    "import matplotlib.pylab as plt\n",
    "%matplotlib inline\n",
    "\n",
    "from sklearn.model_selection import GridSearchCV\n",
    "from sklearn.model_selection import train_test_split"
   ]
  },
  {
   "cell_type": "markdown",
   "metadata": {},
   "source": [
    "X为样本特征，y为样本类别输出， 共10000个样本，每个样本20个特征，输出有2个类别，没有冗余特征，每个类别一个簇"
   ]
  },
  {
   "cell_type": "code",
   "execution_count": 3,
   "metadata": {},
   "outputs": [],
   "source": [
    "from sklearn.datasets.samples_generator import make_classification\n",
    "\n",
    "X, y = make_classification(n_samples=10000, n_features=20, n_redundant=0,\n",
    "                             n_clusters_per_class=1, n_classes=2, flip_y=0.1)"
   ]
  },
  {
   "cell_type": "code",
   "execution_count": 5,
   "metadata": {},
   "outputs": [
    {
     "data": {
      "text/plain": [
       "array([[-0.10105434, -0.44625145, -0.16018311, ...,  0.64440604,\n",
       "         0.11340824, -0.46350682],\n",
       "       [-0.9876784 ,  1.39616527, -1.82928894, ..., -0.1752953 ,\n",
       "        -0.99810912,  0.99595856],\n",
       "       [-0.00458682,  0.91131355, -0.23300418, ...,  0.63599969,\n",
       "        -0.09860683, -0.39481746],\n",
       "       ...,\n",
       "       [-0.7804739 , -1.9946153 ,  0.07779949, ...,  0.8097438 ,\n",
       "         0.16954414,  1.04959909],\n",
       "       [-0.26446138, -1.04020355, -1.22396893, ..., -0.37033652,\n",
       "        -1.70988399,  1.46570896],\n",
       "       [-0.23229993,  2.01320972,  0.51248316, ...,  0.62603207,\n",
       "        -0.74680501, -1.69474859]])"
      ]
     },
     "execution_count": 5,
     "metadata": {},
     "output_type": "execute_result"
    }
   ],
   "source": [
    "X"
   ]
  },
  {
   "cell_type": "code",
   "execution_count": 4,
   "metadata": {},
   "outputs": [],
   "source": [
    "X_train, X_test, y_train, y_test = train_test_split(X, y, random_state=1)"
   ]
  },
  {
   "cell_type": "code",
   "execution_count": null,
   "metadata": {},
   "outputs": [],
   "source": [
    "sklearn_model_new = xgb.XGBClassifier(max_depth=5,\n",
    "                                      learning_rate= 0.5, \n",
    "                                      verbosity=1, \n",
    "                                      objective='binary:logistic',\n",
    "                                      random_state=1)"
   ]
  },
  {
   "cell_type": "code",
   "execution_count": null,
   "metadata": {},
   "outputs": [],
   "source": [
    "sklearn_model_new.fit(X_train, y_train, \n",
    "                      early_stopping_rounds=10, \n",
    "                      eval_metric=\"error\",\n",
    "                      eval_set=[(X_test, y_test)])"
   ]
  },
  {
   "cell_type": "markdown",
   "metadata": {},
   "source": [
    "### XGBoost网格搜索调参"
   ]
  },
  {
   "cell_type": "code",
   "execution_count": null,
   "metadata": {},
   "outputs": [],
   "source": [
    "gsCv = GridSearchCV(sklearn_model_new,\n",
    "                   {'max_depth': [4,5,6],\n",
    "                    'n_estimators': [5,10,20]})\n",
    "gsCv.fit(X_train,y_train)"
   ]
  },
  {
   "cell_type": "code",
   "execution_count": null,
   "metadata": {},
   "outputs": [],
   "source": [
    "print(gsCv.best_score_)\n",
    "print(gsCv.best_params_)"
   ]
  },
  {
   "cell_type": "markdown",
   "metadata": {},
   "source": [
    "例子里的输出是：\n",
    "\n",
    "0.9533333333333334\n",
    "\n",
    "{'max_depth': 4, 'n_estimators': 10}\n",
    "\n",
    "接着尝试在上面搜索的基础上调 learning_rate ："
   ]
  },
  {
   "cell_type": "code",
   "execution_count": null,
   "metadata": {},
   "outputs": [],
   "source": [
    "sklearn_model_new2 = xgb.XGBClassifier(max_depth=4,\n",
    "                                       n_estimators=10,\n",
    "                                       verbosity=1, \n",
    "                                       objective='binary:logistic',\n",
    "                                       random_state=1)\n",
    "gsCv2 = GridSearchCV(sklearn_model_new2, \n",
    "                     {'learning_rate ': [0.3,0.5,0.7]})\n",
    "gsCv2.fit(X_train,y_train)"
   ]
  },
  {
   "cell_type": "code",
   "execution_count": null,
   "metadata": {},
   "outputs": [],
   "source": [
    "print(gsCv2.best_score_)\n",
    "print(gsCv2.best_params_)"
   ]
  },
  {
   "cell_type": "markdown",
   "metadata": {},
   "source": [
    "例子里的输出是：\n",
    "\n",
    "0.9516\n",
    "\n",
    "{'learning_rate ': 0.3}\n",
    "\n",
    "当然实际情况这里需要继续调参，这里假设我们已经调参完毕，我们尝试用验证集看看效果："
   ]
  },
  {
   "cell_type": "code",
   "execution_count": null,
   "metadata": {},
   "outputs": [],
   "source": [
    "sklearn_model_new2 = xgb.XGBClassifier(max_depth=4,\n",
    "                                       learning_rate= 0.3, \n",
    "                                       verbosity=1, \n",
    "                                       objective='binary:logistic',\n",
    "                                       n_estimators=10)\n",
    "\n",
    "sklearn_model_new2.fit(X_train, y_train, \n",
    "                       early_stopping_rounds=10, \n",
    "                       eval_metric=\"error\",\n",
    "                       eval_set=[(X_test, y_test)])"
   ]
  },
  {
   "cell_type": "markdown",
   "metadata": {},
   "source": [
    "最后的输出是：\n",
    "\n",
    "validation_0-error : 0.0588\n",
    "\n",
    "也就是验证集的准确率是 94.12%。\n",
    "\n",
    "我们可以通过验证集的准确率来判断我们前面网格搜索调参是否起到了效果。实际处理的时候需要反复搜索参数并验证。"
   ]
  }
 ],
 "metadata": {
  "kernelspec": {
   "display_name": "Python 3",
   "language": "python",
   "name": "python3"
  },
  "language_info": {
   "codemirror_mode": {
    "name": "ipython",
    "version": 3
   },
   "file_extension": ".py",
   "mimetype": "text/x-python",
   "name": "python",
   "nbconvert_exporter": "python",
   "pygments_lexer": "ipython3",
   "version": "3.7.4"
  }
 },
 "nbformat": 4,
 "nbformat_minor": 2
}
