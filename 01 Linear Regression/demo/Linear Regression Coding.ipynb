{
 "cells": [
  {
   "cell_type": "markdown",
   "metadata": {},
   "source": [
    "## 1.题目：\n",
    "从给定的房屋基本信息以及房屋销售信息等，建立一个回归模型预测房屋的销售价格。\n",
    "\n",
    "**数据说明**：\n",
    "数据主要包括2014年5月至2015年5月美国 King County 的房屋销售价格以及房屋的基本信息。\n",
    "数据分为训练数据和测试数据，分别保存在 kc_train.txt 和 kc_test.txt 两个文件中。\n",
    "其中训练数据主要包括10000条记录，14个字段，主要字段说明如下：\n",
    "* 第一列“销售日期”：2014年5月到2015年5月房屋出售时的日期\n",
    "* 第二列“销售价格”：房屋交易价格，单位为美元，是目标预测值\n",
    "* 第三列“卧室数”：房屋中的卧室数目\n",
    "* 第四列“浴室数”：房屋中的浴室数目\n",
    "* 第五列“房屋面积”：房屋里的生活面积\n",
    "* 第六列“停车面积”：停车坪的面积\n",
    "* 第七列“楼层数”：房屋的楼层数\n",
    "* 第八列“房屋评分”：King County 房屋评分系统对房屋的总体评分\n",
    "* 第九列“建筑面积”：除了地下室之外的房屋建筑面积\n",
    "* 第十列“地下室面积”：地下室的面积\n",
    "* 第十一列“建筑年份”：房屋建成的年份\n",
    "* 第十二列“修复年份”：房屋上次修复的年份\n",
    "* 第十三列\"纬度\"：房屋所在纬度\n",
    "* 第十四列“经度”：房屋所在经度\n",
    "\n",
    "测试数据主要包括3000条记录，13个字段，跟训练数据的不同是测试数据并不包括房屋销售价格，学员需要通过由训练数据所建立的模型以及所给的测试数据，得出测试数据相应的房屋销售价格预测值。"
   ]
  },
  {
   "cell_type": "markdown",
   "metadata": {},
   "source": [
    "## 2.步骤\n",
    "![](https://github.com/yunjcai/ML-DL-Training-Materials/blob/main/01%20Linear%20Regression/image/3.jpg?raw=true)\n",
    "\n",
    "- 1.选择合适的模型，对模型的好坏进行评估和选择。\n",
    "- 2.对缺失的值进行补齐操作，可以使用均值的方式补齐数据，使得准确度更高。\n",
    "- 3.数据的取值一般跟属性有关系，但世界万物的属性是很多的，有些值小，但不代表不重要，所有为了提高预测的准确度，统一数据维度进行计算，方法有特征缩放和归一法等。\n",
    "- 4.数据处理好之后就可以进行调用模型库进行训练了。\n",
    "- 5.使用测试数据进行目标函数预测输出，观察结果是否符合预期。或者通过画出对比函数进行结果线条对比。"
   ]
  },
  {
   "cell_type": "markdown",
   "metadata": {},
   "source": [
    "## 3.模型选择\n",
    "这里我们选择多元线性回归模型。公式如下：选择多元线性回归模型。\n",
    "![](https://github.com/yunjcai/ML-DL-Training-Materials/blob/main/01%20Linear%20Regression/image/4.jpg?raw=true)\n",
    "\n",
    "$y$ 表示我们要求的销售价格，$x$ 表示特征值。需要调用 sklearn 库来进行训练。"
   ]
  },
  {
   "cell_type": "markdown",
   "metadata": {},
   "source": [
    "## 4.环境配置\n",
    "\n",
    "- python3.7\n",
    "- numpy\n",
    "- pandas\n",
    "- matplotlib\n",
    "- seaborn\n",
    "- sklearn"
   ]
  },
  {
   "cell_type": "markdown",
   "metadata": {},
   "source": [
    "## 5.csv数据处理\n",
    "\n",
    "下载的是两个数据文件，一个是真实数据，一个是测试数据，打开 *kc_train.txt*，能够看到第二列是销售价格，而我们要预测的就是销售价格，所以在训练过程中是不需要销售价格的，把第二列删除掉，新建一个 txt 文件存放销售价格这一列，作为后面的结果对比。"
   ]
  },
  {
   "cell_type": "code",
   "execution_count": 1,
   "metadata": {},
   "outputs": [
    {
     "name": "stderr",
     "output_type": "stream",
     "text": [
      "C:\\Anaconda3\\lib\\site-packages\\ipykernel_launcher.py:8: FutureWarning: The signature of `Series.to_csv` was aligned to that of `DataFrame.to_csv`, and argument 'header' will change its default value from False to True: please pass an explicit value to suppress this warning.\n",
      "  \n"
     ]
    },
    {
     "data": {
      "text/html": [
       "<div>\n",
       "<style scoped>\n",
       "    .dataframe tbody tr th:only-of-type {\n",
       "        vertical-align: middle;\n",
       "    }\n",
       "\n",
       "    .dataframe tbody tr th {\n",
       "        vertical-align: top;\n",
       "    }\n",
       "\n",
       "    .dataframe thead th {\n",
       "        text-align: right;\n",
       "    }\n",
       "</style>\n",
       "<table border=\"1\" class=\"dataframe\">\n",
       "  <thead>\n",
       "    <tr style=\"text-align: right;\">\n",
       "      <th></th>\n",
       "      <th>0</th>\n",
       "      <th>2</th>\n",
       "      <th>3</th>\n",
       "      <th>4</th>\n",
       "      <th>5</th>\n",
       "      <th>6</th>\n",
       "      <th>7</th>\n",
       "      <th>8</th>\n",
       "      <th>9</th>\n",
       "      <th>10</th>\n",
       "      <th>11</th>\n",
       "      <th>12</th>\n",
       "      <th>13</th>\n",
       "    </tr>\n",
       "  </thead>\n",
       "  <tbody>\n",
       "    <tr>\n",
       "      <td>0</td>\n",
       "      <td>20150302</td>\n",
       "      <td>3</td>\n",
       "      <td>2.25</td>\n",
       "      <td>1670</td>\n",
       "      <td>6240</td>\n",
       "      <td>1.0</td>\n",
       "      <td>8</td>\n",
       "      <td>1240</td>\n",
       "      <td>430</td>\n",
       "      <td>1974</td>\n",
       "      <td>0</td>\n",
       "      <td>47.6413</td>\n",
       "      <td>-122.113</td>\n",
       "    </tr>\n",
       "    <tr>\n",
       "      <td>1</td>\n",
       "      <td>20150211</td>\n",
       "      <td>4</td>\n",
       "      <td>2.50</td>\n",
       "      <td>3300</td>\n",
       "      <td>10514</td>\n",
       "      <td>2.0</td>\n",
       "      <td>10</td>\n",
       "      <td>3300</td>\n",
       "      <td>0</td>\n",
       "      <td>1984</td>\n",
       "      <td>0</td>\n",
       "      <td>47.6323</td>\n",
       "      <td>-122.036</td>\n",
       "    </tr>\n",
       "    <tr>\n",
       "      <td>2</td>\n",
       "      <td>20150107</td>\n",
       "      <td>3</td>\n",
       "      <td>3.25</td>\n",
       "      <td>3190</td>\n",
       "      <td>5283</td>\n",
       "      <td>2.0</td>\n",
       "      <td>9</td>\n",
       "      <td>3190</td>\n",
       "      <td>0</td>\n",
       "      <td>2007</td>\n",
       "      <td>0</td>\n",
       "      <td>47.5534</td>\n",
       "      <td>-122.002</td>\n",
       "    </tr>\n",
       "    <tr>\n",
       "      <td>3</td>\n",
       "      <td>20141103</td>\n",
       "      <td>5</td>\n",
       "      <td>2.50</td>\n",
       "      <td>2900</td>\n",
       "      <td>9525</td>\n",
       "      <td>2.0</td>\n",
       "      <td>9</td>\n",
       "      <td>2900</td>\n",
       "      <td>0</td>\n",
       "      <td>1989</td>\n",
       "      <td>0</td>\n",
       "      <td>47.5442</td>\n",
       "      <td>-122.138</td>\n",
       "    </tr>\n",
       "    <tr>\n",
       "      <td>4</td>\n",
       "      <td>20140603</td>\n",
       "      <td>5</td>\n",
       "      <td>2.75</td>\n",
       "      <td>2040</td>\n",
       "      <td>7488</td>\n",
       "      <td>1.0</td>\n",
       "      <td>7</td>\n",
       "      <td>1200</td>\n",
       "      <td>840</td>\n",
       "      <td>1969</td>\n",
       "      <td>0</td>\n",
       "      <td>47.7289</td>\n",
       "      <td>-122.172</td>\n",
       "    </tr>\n",
       "  </tbody>\n",
       "</table>\n",
       "</div>"
      ],
      "text/plain": [
       "         0   2     3     4      5    6   7     8    9     10  11       12  \\\n",
       "0  20150302   3  2.25  1670   6240  1.0   8  1240  430  1974   0  47.6413   \n",
       "1  20150211   4  2.50  3300  10514  2.0  10  3300    0  1984   0  47.6323   \n",
       "2  20150107   3  3.25  3190   5283  2.0   9  3190    0  2007   0  47.5534   \n",
       "3  20141103   5  2.50  2900   9525  2.0   9  2900    0  1989   0  47.5442   \n",
       "4  20140603   5  2.75  2040   7488  1.0   7  1200  840  1969   0  47.7289   \n",
       "\n",
       "        13  \n",
       "0 -122.113  \n",
       "1 -122.036  \n",
       "2 -122.002  \n",
       "3 -122.138  \n",
       "4 -122.172  "
      ]
     },
     "execution_count": 1,
     "metadata": {},
     "output_type": "execute_result"
    }
   ],
   "source": [
    "import pandas as pd\n",
    "\n",
    "# 读取数据\n",
    "housing = pd.read_csv('kc_train.txt',header=None)\n",
    "target = housing.pop(housing.columns[1]) # 第二列是销售价格，是我们要预测的\n",
    "\n",
    "# 新建一个 txt 文件存放销售价格这一列\n",
    "target.to_csv('kc_train2.txt',header=None,index=False)\n",
    "housing.head()"
   ]
  },
  {
   "cell_type": "markdown",
   "metadata": {},
   "source": [
    "## 6.数据处理\n",
    "\n",
    "首先先读取数据，查看数据是否存在缺失值，然后进行特征缩放统一数据维度。"
   ]
  },
  {
   "cell_type": "code",
   "execution_count": 2,
   "metadata": {},
   "outputs": [
    {
     "name": "stdout",
     "output_type": "stream",
     "text": [
      "<class 'pandas.core.frame.DataFrame'>\n",
      "RangeIndex: 10000 entries, 0 to 9999\n",
      "Data columns (total 13 columns):\n",
      "0     10000 non-null int64\n",
      "2     10000 non-null int64\n",
      "3     10000 non-null float64\n",
      "4     10000 non-null int64\n",
      "5     10000 non-null int64\n",
      "6     10000 non-null float64\n",
      "7     10000 non-null int64\n",
      "8     10000 non-null int64\n",
      "9     10000 non-null int64\n",
      "10    10000 non-null int64\n",
      "11    10000 non-null int64\n",
      "12    10000 non-null float64\n",
      "13    10000 non-null float64\n",
      "dtypes: float64(4), int64(9)\n",
      "memory usage: 1015.8 KB\n"
     ]
    }
   ],
   "source": [
    "# 数据预处理\n",
    "# 查看是否有缺失值\n",
    "housing.info()"
   ]
  },
  {
   "cell_type": "code",
   "execution_count": 3,
   "metadata": {},
   "outputs": [
    {
     "data": {
      "text/html": [
       "<div>\n",
       "<style scoped>\n",
       "    .dataframe tbody tr th:only-of-type {\n",
       "        vertical-align: middle;\n",
       "    }\n",
       "\n",
       "    .dataframe tbody tr th {\n",
       "        vertical-align: top;\n",
       "    }\n",
       "\n",
       "    .dataframe thead th {\n",
       "        text-align: right;\n",
       "    }\n",
       "</style>\n",
       "<table border=\"1\" class=\"dataframe\">\n",
       "  <thead>\n",
       "    <tr style=\"text-align: right;\">\n",
       "      <th></th>\n",
       "      <th>0</th>\n",
       "      <th>2</th>\n",
       "      <th>3</th>\n",
       "      <th>4</th>\n",
       "      <th>5</th>\n",
       "      <th>6</th>\n",
       "      <th>7</th>\n",
       "      <th>8</th>\n",
       "      <th>9</th>\n",
       "      <th>10</th>\n",
       "      <th>11</th>\n",
       "      <th>12</th>\n",
       "      <th>13</th>\n",
       "    </tr>\n",
       "  </thead>\n",
       "  <tbody>\n",
       "    <tr>\n",
       "      <td>0</td>\n",
       "      <td>0.977556</td>\n",
       "      <td>0.3</td>\n",
       "      <td>0.290323</td>\n",
       "      <td>0.134737</td>\n",
       "      <td>0.003434</td>\n",
       "      <td>0.0</td>\n",
       "      <td>0.5</td>\n",
       "      <td>0.100354</td>\n",
       "      <td>0.089212</td>\n",
       "      <td>0.643478</td>\n",
       "      <td>0.0</td>\n",
       "      <td>0.779557</td>\n",
       "      <td>0.337209</td>\n",
       "    </tr>\n",
       "    <tr>\n",
       "      <td>1</td>\n",
       "      <td>0.968479</td>\n",
       "      <td>0.4</td>\n",
       "      <td>0.322581</td>\n",
       "      <td>0.306316</td>\n",
       "      <td>0.006023</td>\n",
       "      <td>0.4</td>\n",
       "      <td>0.7</td>\n",
       "      <td>0.343566</td>\n",
       "      <td>0.000000</td>\n",
       "      <td>0.730435</td>\n",
       "      <td>0.0</td>\n",
       "      <td>0.765001</td>\n",
       "      <td>0.401163</td>\n",
       "    </tr>\n",
       "    <tr>\n",
       "      <td>2</td>\n",
       "      <td>0.958105</td>\n",
       "      <td>0.3</td>\n",
       "      <td>0.419355</td>\n",
       "      <td>0.294737</td>\n",
       "      <td>0.002854</td>\n",
       "      <td>0.4</td>\n",
       "      <td>0.6</td>\n",
       "      <td>0.330579</td>\n",
       "      <td>0.000000</td>\n",
       "      <td>0.930435</td>\n",
       "      <td>0.0</td>\n",
       "      <td>0.637393</td>\n",
       "      <td>0.429402</td>\n",
       "    </tr>\n",
       "    <tr>\n",
       "      <td>3</td>\n",
       "      <td>0.059950</td>\n",
       "      <td>0.5</td>\n",
       "      <td>0.322581</td>\n",
       "      <td>0.264211</td>\n",
       "      <td>0.005423</td>\n",
       "      <td>0.4</td>\n",
       "      <td>0.6</td>\n",
       "      <td>0.296340</td>\n",
       "      <td>0.000000</td>\n",
       "      <td>0.773913</td>\n",
       "      <td>0.0</td>\n",
       "      <td>0.622513</td>\n",
       "      <td>0.316445</td>\n",
       "    </tr>\n",
       "    <tr>\n",
       "      <td>4</td>\n",
       "      <td>0.010075</td>\n",
       "      <td>0.5</td>\n",
       "      <td>0.354839</td>\n",
       "      <td>0.173684</td>\n",
       "      <td>0.004190</td>\n",
       "      <td>0.0</td>\n",
       "      <td>0.4</td>\n",
       "      <td>0.095632</td>\n",
       "      <td>0.174274</td>\n",
       "      <td>0.600000</td>\n",
       "      <td>0.0</td>\n",
       "      <td>0.921236</td>\n",
       "      <td>0.288206</td>\n",
       "    </tr>\n",
       "  </tbody>\n",
       "</table>\n",
       "</div>"
      ],
      "text/plain": [
       "         0    2         3         4         5    6    7         8         9   \\\n",
       "0  0.977556  0.3  0.290323  0.134737  0.003434  0.0  0.5  0.100354  0.089212   \n",
       "1  0.968479  0.4  0.322581  0.306316  0.006023  0.4  0.7  0.343566  0.000000   \n",
       "2  0.958105  0.3  0.419355  0.294737  0.002854  0.4  0.6  0.330579  0.000000   \n",
       "3  0.059950  0.5  0.322581  0.264211  0.005423  0.4  0.6  0.296340  0.000000   \n",
       "4  0.010075  0.5  0.354839  0.173684  0.004190  0.0  0.4  0.095632  0.174274   \n",
       "\n",
       "         10   11        12        13  \n",
       "0  0.643478  0.0  0.779557  0.337209  \n",
       "1  0.730435  0.0  0.765001  0.401163  \n",
       "2  0.930435  0.0  0.637393  0.429402  \n",
       "3  0.773913  0.0  0.622513  0.316445  \n",
       "4  0.600000  0.0  0.921236  0.288206  "
      ]
     },
     "execution_count": 3,
     "metadata": {},
     "output_type": "execute_result"
    }
   ],
   "source": [
    "# 特征缩放\n",
    "from sklearn.preprocessing import MinMaxScaler\n",
    "\n",
    "# 进行内部拟合，内部参数会发生变化\n",
    "scaler = MinMaxScaler()\n",
    "\n",
    "scaler_housing = scaler.fit_transform(housing)\n",
    "scaler_housing = pd.DataFrame(scaler_housing, columns=housing.columns)\n",
    "\n",
    "scaler_housing.head()"
   ]
  },
  {
   "cell_type": "markdown",
   "metadata": {},
   "source": [
    "## 7.模型训练\n",
    "\n",
    "使用 sklearn 库的线性回归函数进行调用训练。梯度下降法获得误差最小值。最后使用均方误差法来评价模型的好坏程度，并画图进行比较。"
   ]
  },
  {
   "cell_type": "code",
   "execution_count": 4,
   "metadata": {},
   "outputs": [
    {
     "data": {
      "text/plain": [
       "LinearRegression(copy_X=True, fit_intercept=True, n_jobs=None, normalize=False)"
      ]
     },
     "execution_count": 4,
     "metadata": {},
     "output_type": "execute_result"
    }
   ],
   "source": [
    "# 选择基于梯度下降的线性回归模型\n",
    "from sklearn.linear_model import LinearRegression\n",
    "lr = LinearRegression()\n",
    "\n",
    "# 进行拟合\n",
    "lr.fit(scaler_housing,target)"
   ]
  },
  {
   "cell_type": "code",
   "execution_count": 5,
   "metadata": {},
   "outputs": [
    {
     "data": {
      "text/plain": [
       "48739065340.672"
      ]
     },
     "execution_count": 5,
     "metadata": {},
     "output_type": "execute_result"
    }
   ],
   "source": [
    "# 使用均方误差用于评价模型好坏\n",
    "from sklearn.metrics import mean_squared_error\n",
    "\n",
    "# 输入数据进行预测得到结果\n",
    "pred = lr.predict(scaler_housing)\n",
    "# 使用均方误差来评价模型好坏，可以输出mse进行查看评价值\n",
    "mse = mean_squared_error(pred,target)\n",
    "\n",
    "mse"
   ]
  },
  {
   "cell_type": "code",
   "execution_count": 9,
   "metadata": {},
   "outputs": [
    {
     "data": {
      "image/png": "[encoded data removed]",
      "text/plain": [
       "<Figure size 720x504 with 1 Axes>"
      ]
     },
     "metadata": {
      "needs_background": "light"
     },
     "output_type": "display_data"
    }
   ],
   "source": [
    "# 绘图进行比较\n",
    "import matplotlib.pyplot as plt\n",
    "import numpy as np\n",
    "\n",
    "# 画布大小\n",
    "plt.figure(figsize=(10,7))\n",
    "\n",
    "# 取100个点进行比较\n",
    "num=100\n",
    "x=np.arange(1,num+1)\n",
    "\n",
    "# 目标取值\n",
    "plt.plot(x,target[:num],label='target')\n",
    "\n",
    "# 预测取值\n",
    "plt.plot(x,pred[:num],label='pred')\n",
    "\n",
    "#线条显示位置\n",
    "plt.legend(loc='upper right')\n",
    "plt.show()"
   ]
  },
  {
   "cell_type": "markdown",
   "metadata": {},
   "source": [
    "从这张结果对比图中就可以看出模型是否得到精确的目标函数，是否能够精确预测房价。\n",
    "\n",
    "如果想要预测 test 文件里的数据，那就把 test 文件里的数据进行读取，并且进行特征缩放，调用：\n",
    "* **lr.predict(test)**\n",
    "\n",
    "就可以得到预测结果，并进行输出操作。"
   ]
  }
 ],
 "metadata": {
  "kernelspec": {
   "display_name": "Python 3",
   "language": "python",
   "name": "python3"
  },
  "language_info": {
   "codemirror_mode": {
    "name": "ipython",
    "version": 3
   },
   "file_extension": ".py",
   "mimetype": "text/x-python",
   "name": "python",
   "nbconvert_exporter": "python",
   "pygments_lexer": "ipython3",
   "version": "3.7.4"
  }
 },
 "nbformat": 4,
 "nbformat_minor": 2
}
